{
 "cells": [
  {
   "cell_type": "code",
   "execution_count": 1,
   "metadata": {},
   "outputs": [
    {
     "name": "stderr",
     "output_type": "stream",
     "text": [
      "RDKit WARNING: [23:30:37] Enabling RDKit 2019.09.1 jupyter extensions\n"
     ]
    }
   ],
   "source": [
    "import numpy as np\n",
    "import pandas as pd\n",
    "from pathlib import Path\n",
    "\n",
    "from rdkit import Chem\n",
    "from rdkit.Chem import AllChem\n",
    "from rdkit.Chem import PandasTools\n",
    "from rdkit.Chem.Draw import IPythonConsole\n",
    "\n",
    "from mol2vec.features import mol2alt_sentence, sentences2vec\n",
    "from gensim.models import word2vec\n",
    "from sklearn.neural_network import MLPClassifier\n",
    "from sklearn.metrics import roc_auc_score\n",
    "from joblib import Parallel, delayed"
   ]
  },
  {
   "cell_type": "code",
   "execution_count": 2,
   "metadata": {},
   "outputs": [],
   "source": [
    "def load_split(csv_path, smi_col, label_col, splits):\n",
    "    df = pd.read_csv(csv_path)\n",
    "    smis = df[smi_col].to_numpy()\n",
    "    mols = np.array([AllChem.MolFromSmiles(i) for i in df[smi_col]])\n",
    "    labels = df[label_col].to_numpy()\n",
    "    valididx = ~np.isnan(labels)\n",
    "    smis, mols, labels = smis[valididx], mols[valididx], labels[valididx]\n",
    "    assert len(mols) == len(labels)\n",
    "    assert np.isclose(np.sum(splits), 1.0)\n",
    "    num_data = len(mols)\n",
    "    index = np.random.permutation(num_data)\n",
    "    mols, labels = mols[index], labels[index]\n",
    "    part1 = int(num_data * splits[0])\n",
    "    part2 = int(num_data * (splits[0]+splits[1]))\n",
    "    mols_train, labels_train = mols[:part1], labels[:part1]\n",
    "    mols_valid, labels_valid = mols[part1:part2], labels[part1:part2]\n",
    "    mols_test, labels_test = mols[part2:], labels[part2:]\n",
    "    assert len(mols_train) == len(labels_train)\n",
    "    assert len(mols_valid) == len(labels_valid)\n",
    "    assert len(mols_test) == len(labels_test)\n",
    "    return (mols_train, labels_train), (mols_valid, labels_valid), (mols_test, labels_test)\n"
   ]
  },
  {
   "cell_type": "code",
   "execution_count": 3,
   "metadata": {},
   "outputs": [],
   "source": [
    "if not Path('model_300dim.pkl').is_file():\n",
    "    !wget https://github.com/samoturk/mol2vec/raw/master/examples/models/model_300dim.pkl\n",
    "\n",
    "choices = ['NR-AR', 'NR-AR-LBD', 'NR-AhR', 'NR-Aromatase', 'NR-ER', 'NR-ER-LBD', 'NR-PPAR-gamma', 'SR-ARE', 'SR-ATAD5', 'SR-HSE', 'SR-MMP', 'SR-p53']\n",
    "model = word2vec.Word2Vec.load('model_300dim.pkl')\n",
    "def train_eval(colname, unseen='UNK'):\n",
    "    train, valid, test = load_split('./tox21.csv', 'smiles', colname, [0.8, 0.1, 0.1])\n",
    "    train_Y =train[1]\n",
    "    train_X = sentences2vec([mol2alt_sentence(mol, 1) for mol in train[0]], model, unseen=unseen)\n",
    "\n",
    "    valid_Y = valid[1]\n",
    "    valid_X = sentences2vec([mol2alt_sentence(mol, 1) for mol in valid[0]], model, unseen=unseen)\n",
    "    \n",
    "    test_Y = test[1]\n",
    "    test_X = sentences2vec([mol2alt_sentence(mol, 1) for mol in test[0]], model, unseen=unseen)\n",
    "    \n",
    "    train_X = np.concatenate([train_X, valid_X])\n",
    "    train_Y = np.concatenate([train_Y, valid_Y])\n",
    "    \n",
    "    clf = MLPClassifier(learning_rate='adaptive', early_stopping=True, validation_fraction=1/9)\n",
    "    clf.fit(train_X, train_Y)\n",
    "    pred = clf.predict_proba(test_X)[:, 1] # probability for positive label\n",
    "    return roc_auc_score(test_Y, pred)"
   ]
  },
  {
   "cell_type": "code",
   "execution_count": 4,
   "metadata": {},
   "outputs": [
    {
     "name": "stdout",
     "output_type": "stream",
     "text": [
      "NR-AR\tmean: 0.7288\tstd: 0.0449\n",
      "0.7272\t0.7766\t0.6775\t0.7138\t0.6723\t0.7054\t0.7060\t0.7092\t0.7876\t0.8122\t\n",
      "NR-AR-LBD\tmean: 0.8073\tstd: 0.0507\n",
      "0.8813\t0.7211\t0.8311\t0.7475\t0.7692\t0.7610\t0.8306\t0.8414\t0.8619\t0.8280\t\n",
      "NR-AhR\tmean: 0.8640\tstd: 0.0228\n",
      "0.8717\t0.8409\t0.8739\t0.8681\t0.8121\t0.8698\t0.8832\t0.8616\t0.9006\t0.8576\t\n",
      "NR-Aromatase\tmean: 0.7058\tstd: 0.1119\n",
      "0.6693\t0.7929\t0.7270\t0.7843\t0.6397\t0.8557\t0.7859\t0.7033\t0.4320\t0.6678\t\n",
      "NR-ER\tmean: 0.6865\tstd: 0.0274\n",
      "0.6598\t0.6931\t0.7230\t0.6858\t0.6255\t0.6919\t0.6712\t0.7174\t0.6891\t0.7082\t\n",
      "NR-ER-LBD\tmean: 0.7266\tstd: 0.0477\n",
      "0.6910\t0.6582\t0.7049\t0.7132\t0.8131\t0.7945\t0.7726\t0.7273\t0.6965\t0.6944\t\n",
      "NR-PPAR-gamma\tmean: 0.6370\tstd: 0.1485\n",
      "0.7292\t0.7171\t0.4836\t0.4501\t0.7975\t0.7956\t0.4041\t0.6869\t0.5134\t0.7921\t\n",
      "SR-ARE\tmean: 0.7759\tstd: 0.0394\n",
      "0.8000\t0.7737\t0.7128\t0.7662\t0.7552\t0.7587\t0.8052\t0.7227\t0.8270\t0.8381\t\n",
      "SR-ATAD5\tmean: 0.7571\tstd: 0.0687\n",
      "0.7251\t0.8340\t0.8036\t0.8479\t0.8249\t0.7218\t0.7801\t0.6993\t0.6227\t0.7115\t\n",
      "SR-HSE\tmean: 0.6617\tstd: 0.0684\n",
      "0.5948\t0.6948\t0.7431\t0.7508\t0.6418\t0.5267\t0.5992\t0.6802\t0.7234\t0.6623\t\n",
      "SR-MMP\tmean: 0.8750\tstd: 0.0118\n",
      "0.8594\t0.8755\t0.8725\t0.8856\t0.8870\t0.8767\t0.8877\t0.8555\t0.8884\t0.8618\t\n",
      "SR-p53\tmean: 0.7335\tstd: 0.0847\n",
      "0.6601\t0.7962\t0.7481\t0.6806\t0.8012\t0.8438\t0.8284\t0.6363\t0.7595\t0.5804\t\n"
     ]
    }
   ],
   "source": [
    "for idx, col in enumerate(choices):\n",
    "    result = Parallel(n_jobs=10)(delayed(train_eval)(col) for _ in range(10))\n",
    "    print(choices[idx], f\"mean: {np.mean(result):.4f}\", f\"std: {np.std(result):.4f}\", sep='\\t')\n",
    "    print((\"{:.4f}\\t\"*10).format(*result))"
   ]
  },
  {
   "cell_type": "code",
   "execution_count": null,
   "metadata": {},
   "outputs": [],
   "source": []
  }
 ],
 "metadata": {
  "kernelspec": {
   "display_name": "Python 3",
   "language": "python",
   "name": "python3"
  },
  "language_info": {
   "codemirror_mode": {
    "name": "ipython",
    "version": 3
   },
   "file_extension": ".py",
   "mimetype": "text/x-python",
   "name": "python",
   "nbconvert_exporter": "python",
   "pygments_lexer": "ipython3",
   "version": "3.7.4"
  }
 },
 "nbformat": 4,
 "nbformat_minor": 4
}
